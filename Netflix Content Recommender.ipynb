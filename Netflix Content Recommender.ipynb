{
 "cells": [
  {
   "cell_type": "markdown",
   "id": "b0ad481b",
   "metadata": {},
   "source": [
    "# Netflix Content Recommender\n",
    "Using <a href=\"https://www.kaggle.com/shivamb/netflix-shows\">Kaggle dataset on Netflix shows and movies</a> with scikit-learn's cosine similarity to recommend similar Netflix content based on user input."
   ]
  },
  {
   "cell_type": "code",
   "execution_count": 1,
   "id": "244647c1",
   "metadata": {},
   "outputs": [],
   "source": [
    "#Basic imports\n",
    "import pandas as pd\n",
    "from sklearn.feature_extraction.text import CountVectorizer\n",
    "from sklearn.metrics.pairwise import cosine_similarity\n",
    "\n",
    "#Imports for preprocessing\n",
    "from rake_nltk import Rake\n",
    "import nltk\n",
    "from nltk.corpus import stopwords\n",
    "import string"
   ]
  },
  {
   "cell_type": "code",
   "execution_count": 2,
   "id": "ece97fd4",
   "metadata": {},
   "outputs": [],
   "source": [
    "#Read content\n",
    "content = pd.read_csv('netflix_titles.csv')"
   ]
  },
  {
   "cell_type": "code",
   "execution_count": 3,
   "id": "ef5284bd",
   "metadata": {},
   "outputs": [],
   "source": [
    "content = content[['title', 'director', 'cast', 'listed_in', 'description']]"
   ]
  },
  {
   "cell_type": "code",
   "execution_count": 4,
   "id": "bdc99134",
   "metadata": {
    "scrolled": true
   },
   "outputs": [
    {
     "name": "stdout",
     "output_type": "stream",
     "text": [
      "<class 'pandas.core.frame.DataFrame'>\n",
      "RangeIndex: 8807 entries, 0 to 8806\n",
      "Data columns (total 5 columns):\n",
      " #   Column       Non-Null Count  Dtype \n",
      "---  ------       --------------  ----- \n",
      " 0   title        8807 non-null   object\n",
      " 1   director     6173 non-null   object\n",
      " 2   cast         7982 non-null   object\n",
      " 3   listed_in    8807 non-null   object\n",
      " 4   description  8807 non-null   object\n",
      "dtypes: object(5)\n",
      "memory usage: 344.1+ KB\n"
     ]
    }
   ],
   "source": [
    "content.info()"
   ]
  },
  {
   "cell_type": "code",
   "execution_count": 5,
   "id": "5cdd5cac",
   "metadata": {
    "scrolled": false
   },
   "outputs": [
    {
     "data": {
      "text/html": [
       "<div>\n",
       "<style scoped>\n",
       "    .dataframe tbody tr th:only-of-type {\n",
       "        vertical-align: middle;\n",
       "    }\n",
       "\n",
       "    .dataframe tbody tr th {\n",
       "        vertical-align: top;\n",
       "    }\n",
       "\n",
       "    .dataframe thead th {\n",
       "        text-align: right;\n",
       "    }\n",
       "</style>\n",
       "<table border=\"1\" class=\"dataframe\">\n",
       "  <thead>\n",
       "    <tr style=\"text-align: right;\">\n",
       "      <th></th>\n",
       "      <th>title</th>\n",
       "      <th>director</th>\n",
       "      <th>cast</th>\n",
       "      <th>listed_in</th>\n",
       "      <th>description</th>\n",
       "    </tr>\n",
       "  </thead>\n",
       "  <tbody>\n",
       "    <tr>\n",
       "      <th>count</th>\n",
       "      <td>8807</td>\n",
       "      <td>6173</td>\n",
       "      <td>7982</td>\n",
       "      <td>8807</td>\n",
       "      <td>8807</td>\n",
       "    </tr>\n",
       "    <tr>\n",
       "      <th>unique</th>\n",
       "      <td>8807</td>\n",
       "      <td>4528</td>\n",
       "      <td>7692</td>\n",
       "      <td>514</td>\n",
       "      <td>8775</td>\n",
       "    </tr>\n",
       "    <tr>\n",
       "      <th>top</th>\n",
       "      <td>Dick Johnson Is Dead</td>\n",
       "      <td>Rajiv Chilaka</td>\n",
       "      <td>David Attenborough</td>\n",
       "      <td>Dramas, International Movies</td>\n",
       "      <td>Paranormal activity at a lush, abandoned prope...</td>\n",
       "    </tr>\n",
       "    <tr>\n",
       "      <th>freq</th>\n",
       "      <td>1</td>\n",
       "      <td>19</td>\n",
       "      <td>19</td>\n",
       "      <td>362</td>\n",
       "      <td>4</td>\n",
       "    </tr>\n",
       "  </tbody>\n",
       "</table>\n",
       "</div>"
      ],
      "text/plain": [
       "                       title       director                cast  \\\n",
       "count                   8807           6173                7982   \n",
       "unique                  8807           4528                7692   \n",
       "top     Dick Johnson Is Dead  Rajiv Chilaka  David Attenborough   \n",
       "freq                       1             19                  19   \n",
       "\n",
       "                           listed_in  \\\n",
       "count                           8807   \n",
       "unique                           514   \n",
       "top     Dramas, International Movies   \n",
       "freq                             362   \n",
       "\n",
       "                                              description  \n",
       "count                                                8807  \n",
       "unique                                               8775  \n",
       "top     Paranormal activity at a lush, abandoned prope...  \n",
       "freq                                                    4  "
      ]
     },
     "execution_count": 5,
     "metadata": {},
     "output_type": "execute_result"
    }
   ],
   "source": [
    "content.describe()"
   ]
  },
  {
   "cell_type": "code",
   "execution_count": 6,
   "id": "f7c9c2d9",
   "metadata": {},
   "outputs": [],
   "source": [
    "#Process director, cast, and listed_in columns by merging first and last names and genres titles. \n",
    "#This ensures uniqueness of genres/names.\n",
    "def tag_process(content):\n",
    "    if isinstance(content, str):\n",
    "        split = content.split(', ')\n",
    "        no_nan = [str(director) for director in split]\n",
    "        lowered = [director.lower().replace(' ','') for director in no_nan]\n",
    "        return lowered\n",
    "    return []"
   ]
  },
  {
   "cell_type": "code",
   "execution_count": 7,
   "id": "2679af37",
   "metadata": {},
   "outputs": [],
   "source": [
    "def extract_keywords(text):\n",
    "    #Instantiate Rake\n",
    "    r = Rake()\n",
    "    r.extract_keywords_from_text(text)\n",
    "\n",
    "    #Get dictionary (keys are keywords, values are scores)\n",
    "    #Chose not to include scores because each word is equally important in calculating similarity.\n",
    "    key_words_dict_scores = r.get_word_degrees()\n",
    "\n",
    "    #Returning keywords\n",
    "    text = list(key_words_dict_scores.keys())\n",
    "    return text"
   ]
  },
  {
   "cell_type": "code",
   "execution_count": 8,
   "id": "f658e678",
   "metadata": {},
   "outputs": [],
   "source": [
    "#Process director, cast, listed_in columns\n",
    "for tag in ['director', 'cast', 'listed_in']:\n",
    "    content[tag] = content[tag].apply(tag_process)"
   ]
  },
  {
   "cell_type": "code",
   "execution_count": 9,
   "id": "1efa0fbe",
   "metadata": {
    "scrolled": true
   },
   "outputs": [],
   "source": [
    "#Process description\n",
    "content['description'] = content['description'].apply(extract_keywords)"
   ]
  },
  {
   "cell_type": "code",
   "execution_count": 10,
   "id": "df3b5b7d",
   "metadata": {
    "scrolled": false
   },
   "outputs": [
    {
     "data": {
      "text/html": [
       "<div>\n",
       "<style scoped>\n",
       "    .dataframe tbody tr th:only-of-type {\n",
       "        vertical-align: middle;\n",
       "    }\n",
       "\n",
       "    .dataframe tbody tr th {\n",
       "        vertical-align: top;\n",
       "    }\n",
       "\n",
       "    .dataframe thead th {\n",
       "        text-align: right;\n",
       "    }\n",
       "</style>\n",
       "<table border=\"1\" class=\"dataframe\">\n",
       "  <thead>\n",
       "    <tr style=\"text-align: right;\">\n",
       "      <th></th>\n",
       "      <th>title</th>\n",
       "      <th>director</th>\n",
       "      <th>cast</th>\n",
       "      <th>listed_in</th>\n",
       "      <th>description</th>\n",
       "    </tr>\n",
       "  </thead>\n",
       "  <tbody>\n",
       "    <tr>\n",
       "      <th>0</th>\n",
       "      <td>Dick Johnson Is Dead</td>\n",
       "      <td>[kirstenjohnson]</td>\n",
       "      <td>[]</td>\n",
       "      <td>[documentaries]</td>\n",
       "      <td>[father, nears, end, life, filmmaker, kirsten,...</td>\n",
       "    </tr>\n",
       "    <tr>\n",
       "      <th>1</th>\n",
       "      <td>Blood &amp; Water</td>\n",
       "      <td>[]</td>\n",
       "      <td>[amaqamata, khosingema, gailmabalane, thabangm...</td>\n",
       "      <td>[internationaltvshows, tvdramas, tvmysteries]</td>\n",
       "      <td>[crossing, paths, party, cape, town, teen, set...</td>\n",
       "    </tr>\n",
       "    <tr>\n",
       "      <th>2</th>\n",
       "      <td>Ganglands</td>\n",
       "      <td>[julienleclercq]</td>\n",
       "      <td>[samibouajila, tracygotoas, samueljouy, nabiha...</td>\n",
       "      <td>[crimetvshows, internationaltvshows, tvaction&amp;...</td>\n",
       "      <td>[protect, family, powerful, drug, lord, skille...</td>\n",
       "    </tr>\n",
       "    <tr>\n",
       "      <th>3</th>\n",
       "      <td>Jailbirds New Orleans</td>\n",
       "      <td>[]</td>\n",
       "      <td>[]</td>\n",
       "      <td>[docuseries, realitytv]</td>\n",
       "      <td>[feuds, flirtations, toilet, talk, go, among, ...</td>\n",
       "    </tr>\n",
       "    <tr>\n",
       "      <th>4</th>\n",
       "      <td>Kota Factory</td>\n",
       "      <td>[]</td>\n",
       "      <td>[mayurmore, jitendrakumar, ranjanraj, alamkhan...</td>\n",
       "      <td>[internationaltvshows, romantictvshows, tvcome...</td>\n",
       "      <td>[city, coaching, centers, known, train, india,...</td>\n",
       "    </tr>\n",
       "  </tbody>\n",
       "</table>\n",
       "</div>"
      ],
      "text/plain": [
       "                   title          director  \\\n",
       "0   Dick Johnson Is Dead  [kirstenjohnson]   \n",
       "1          Blood & Water                []   \n",
       "2              Ganglands  [julienleclercq]   \n",
       "3  Jailbirds New Orleans                []   \n",
       "4           Kota Factory                []   \n",
       "\n",
       "                                                cast  \\\n",
       "0                                                 []   \n",
       "1  [amaqamata, khosingema, gailmabalane, thabangm...   \n",
       "2  [samibouajila, tracygotoas, samueljouy, nabiha...   \n",
       "3                                                 []   \n",
       "4  [mayurmore, jitendrakumar, ranjanraj, alamkhan...   \n",
       "\n",
       "                                           listed_in  \\\n",
       "0                                    [documentaries]   \n",
       "1      [internationaltvshows, tvdramas, tvmysteries]   \n",
       "2  [crimetvshows, internationaltvshows, tvaction&...   \n",
       "3                            [docuseries, realitytv]   \n",
       "4  [internationaltvshows, romantictvshows, tvcome...   \n",
       "\n",
       "                                         description  \n",
       "0  [father, nears, end, life, filmmaker, kirsten,...  \n",
       "1  [crossing, paths, party, cape, town, teen, set...  \n",
       "2  [protect, family, powerful, drug, lord, skille...  \n",
       "3  [feuds, flirtations, toilet, talk, go, among, ...  \n",
       "4  [city, coaching, centers, known, train, india,...  "
      ]
     },
     "execution_count": 10,
     "metadata": {},
     "output_type": "execute_result"
    }
   ],
   "source": [
    "content.head()"
   ]
  },
  {
   "cell_type": "code",
   "execution_count": 11,
   "id": "fa19b5d9",
   "metadata": {},
   "outputs": [],
   "source": [
    "#Add director, cast, listed_in, and description tofether\n",
    "def make_keywords(data):\n",
    "    res = data['director'] + data['cast'] + data['listed_in'] + data['description']\n",
    "    return res"
   ]
  },
  {
   "cell_type": "code",
   "execution_count": 12,
   "id": "976d26a8",
   "metadata": {},
   "outputs": [],
   "source": [
    "#Create 'keywords' column\n",
    "content['keywords'] = ''"
   ]
  },
  {
   "cell_type": "code",
   "execution_count": 13,
   "id": "e3104242",
   "metadata": {},
   "outputs": [],
   "source": [
    "content['keywords'] = content.apply(make_keywords, axis=1)"
   ]
  },
  {
   "cell_type": "code",
   "execution_count": 14,
   "id": "9a33e700",
   "metadata": {
    "scrolled": true
   },
   "outputs": [
    {
     "data": {
      "text/html": [
       "<div>\n",
       "<style scoped>\n",
       "    .dataframe tbody tr th:only-of-type {\n",
       "        vertical-align: middle;\n",
       "    }\n",
       "\n",
       "    .dataframe tbody tr th {\n",
       "        vertical-align: top;\n",
       "    }\n",
       "\n",
       "    .dataframe thead th {\n",
       "        text-align: right;\n",
       "    }\n",
       "</style>\n",
       "<table border=\"1\" class=\"dataframe\">\n",
       "  <thead>\n",
       "    <tr style=\"text-align: right;\">\n",
       "      <th></th>\n",
       "      <th>title</th>\n",
       "      <th>director</th>\n",
       "      <th>cast</th>\n",
       "      <th>listed_in</th>\n",
       "      <th>description</th>\n",
       "      <th>keywords</th>\n",
       "    </tr>\n",
       "  </thead>\n",
       "  <tbody>\n",
       "    <tr>\n",
       "      <th>0</th>\n",
       "      <td>Dick Johnson Is Dead</td>\n",
       "      <td>[kirstenjohnson]</td>\n",
       "      <td>[]</td>\n",
       "      <td>[documentaries]</td>\n",
       "      <td>[father, nears, end, life, filmmaker, kirsten,...</td>\n",
       "      <td>[kirstenjohnson, documentaries, father, nears,...</td>\n",
       "    </tr>\n",
       "    <tr>\n",
       "      <th>1</th>\n",
       "      <td>Blood &amp; Water</td>\n",
       "      <td>[]</td>\n",
       "      <td>[amaqamata, khosingema, gailmabalane, thabangm...</td>\n",
       "      <td>[internationaltvshows, tvdramas, tvmysteries]</td>\n",
       "      <td>[crossing, paths, party, cape, town, teen, set...</td>\n",
       "      <td>[amaqamata, khosingema, gailmabalane, thabangm...</td>\n",
       "    </tr>\n",
       "    <tr>\n",
       "      <th>2</th>\n",
       "      <td>Ganglands</td>\n",
       "      <td>[julienleclercq]</td>\n",
       "      <td>[samibouajila, tracygotoas, samueljouy, nabiha...</td>\n",
       "      <td>[crimetvshows, internationaltvshows, tvaction&amp;...</td>\n",
       "      <td>[protect, family, powerful, drug, lord, skille...</td>\n",
       "      <td>[julienleclercq, samibouajila, tracygotoas, sa...</td>\n",
       "    </tr>\n",
       "    <tr>\n",
       "      <th>3</th>\n",
       "      <td>Jailbirds New Orleans</td>\n",
       "      <td>[]</td>\n",
       "      <td>[]</td>\n",
       "      <td>[docuseries, realitytv]</td>\n",
       "      <td>[feuds, flirtations, toilet, talk, go, among, ...</td>\n",
       "      <td>[docuseries, realitytv, feuds, flirtations, to...</td>\n",
       "    </tr>\n",
       "    <tr>\n",
       "      <th>4</th>\n",
       "      <td>Kota Factory</td>\n",
       "      <td>[]</td>\n",
       "      <td>[mayurmore, jitendrakumar, ranjanraj, alamkhan...</td>\n",
       "      <td>[internationaltvshows, romantictvshows, tvcome...</td>\n",
       "      <td>[city, coaching, centers, known, train, india,...</td>\n",
       "      <td>[mayurmore, jitendrakumar, ranjanraj, alamkhan...</td>\n",
       "    </tr>\n",
       "  </tbody>\n",
       "</table>\n",
       "</div>"
      ],
      "text/plain": [
       "                   title          director  \\\n",
       "0   Dick Johnson Is Dead  [kirstenjohnson]   \n",
       "1          Blood & Water                []   \n",
       "2              Ganglands  [julienleclercq]   \n",
       "3  Jailbirds New Orleans                []   \n",
       "4           Kota Factory                []   \n",
       "\n",
       "                                                cast  \\\n",
       "0                                                 []   \n",
       "1  [amaqamata, khosingema, gailmabalane, thabangm...   \n",
       "2  [samibouajila, tracygotoas, samueljouy, nabiha...   \n",
       "3                                                 []   \n",
       "4  [mayurmore, jitendrakumar, ranjanraj, alamkhan...   \n",
       "\n",
       "                                           listed_in  \\\n",
       "0                                    [documentaries]   \n",
       "1      [internationaltvshows, tvdramas, tvmysteries]   \n",
       "2  [crimetvshows, internationaltvshows, tvaction&...   \n",
       "3                            [docuseries, realitytv]   \n",
       "4  [internationaltvshows, romantictvshows, tvcome...   \n",
       "\n",
       "                                         description  \\\n",
       "0  [father, nears, end, life, filmmaker, kirsten,...   \n",
       "1  [crossing, paths, party, cape, town, teen, set...   \n",
       "2  [protect, family, powerful, drug, lord, skille...   \n",
       "3  [feuds, flirtations, toilet, talk, go, among, ...   \n",
       "4  [city, coaching, centers, known, train, india,...   \n",
       "\n",
       "                                            keywords  \n",
       "0  [kirstenjohnson, documentaries, father, nears,...  \n",
       "1  [amaqamata, khosingema, gailmabalane, thabangm...  \n",
       "2  [julienleclercq, samibouajila, tracygotoas, sa...  \n",
       "3  [docuseries, realitytv, feuds, flirtations, to...  \n",
       "4  [mayurmore, jitendrakumar, ranjanraj, alamkhan...  "
      ]
     },
     "execution_count": 14,
     "metadata": {},
     "output_type": "execute_result"
    }
   ],
   "source": [
    "content.head()"
   ]
  },
  {
   "cell_type": "code",
   "execution_count": 15,
   "id": "e3053152",
   "metadata": {
    "scrolled": true
   },
   "outputs": [],
   "source": [
    "#Use only title and keywords\n",
    "content = content[['title', 'keywords']]\n",
    "content['keywords'] = content['keywords'].apply(lambda x: ' '.join([str(i) for i in x]))"
   ]
  },
  {
   "cell_type": "code",
   "execution_count": 16,
   "id": "a747a83e",
   "metadata": {
    "scrolled": true
   },
   "outputs": [
    {
     "data": {
      "text/html": [
       "<div>\n",
       "<style scoped>\n",
       "    .dataframe tbody tr th:only-of-type {\n",
       "        vertical-align: middle;\n",
       "    }\n",
       "\n",
       "    .dataframe tbody tr th {\n",
       "        vertical-align: top;\n",
       "    }\n",
       "\n",
       "    .dataframe thead th {\n",
       "        text-align: right;\n",
       "    }\n",
       "</style>\n",
       "<table border=\"1\" class=\"dataframe\">\n",
       "  <thead>\n",
       "    <tr style=\"text-align: right;\">\n",
       "      <th></th>\n",
       "      <th>title</th>\n",
       "      <th>keywords</th>\n",
       "    </tr>\n",
       "  </thead>\n",
       "  <tbody>\n",
       "    <tr>\n",
       "      <th>0</th>\n",
       "      <td>Dick Johnson Is Dead</td>\n",
       "      <td>kirstenjohnson documentaries father nears end ...</td>\n",
       "    </tr>\n",
       "    <tr>\n",
       "      <th>1</th>\n",
       "      <td>Blood &amp; Water</td>\n",
       "      <td>amaqamata khosingema gailmabalane thabangmolab...</td>\n",
       "    </tr>\n",
       "    <tr>\n",
       "      <th>2</th>\n",
       "      <td>Ganglands</td>\n",
       "      <td>julienleclercq samibouajila tracygotoas samuel...</td>\n",
       "    </tr>\n",
       "    <tr>\n",
       "      <th>3</th>\n",
       "      <td>Jailbirds New Orleans</td>\n",
       "      <td>docuseries realitytv feuds flirtations toilet ...</td>\n",
       "    </tr>\n",
       "    <tr>\n",
       "      <th>4</th>\n",
       "      <td>Kota Factory</td>\n",
       "      <td>mayurmore jitendrakumar ranjanraj alamkhan ahs...</td>\n",
       "    </tr>\n",
       "  </tbody>\n",
       "</table>\n",
       "</div>"
      ],
      "text/plain": [
       "                   title                                           keywords\n",
       "0   Dick Johnson Is Dead  kirstenjohnson documentaries father nears end ...\n",
       "1          Blood & Water  amaqamata khosingema gailmabalane thabangmolab...\n",
       "2              Ganglands  julienleclercq samibouajila tracygotoas samuel...\n",
       "3  Jailbirds New Orleans  docuseries realitytv feuds flirtations toilet ...\n",
       "4           Kota Factory  mayurmore jitendrakumar ranjanraj alamkhan ahs..."
      ]
     },
     "execution_count": 16,
     "metadata": {},
     "output_type": "execute_result"
    }
   ],
   "source": [
    "content.head()"
   ]
  },
  {
   "cell_type": "code",
   "execution_count": 17,
   "id": "33132a6e",
   "metadata": {},
   "outputs": [],
   "source": [
    "#Instantiating count vector\n",
    "count = CountVectorizer()\n",
    "count_matrix = count.fit_transform(content['keywords'])\n",
    "\n",
    "#Generating cosine similarity matrix\n",
    "cosine_sim = cosine_similarity(count_matrix, count_matrix)"
   ]
  },
  {
   "cell_type": "code",
   "execution_count": 18,
   "id": "5e5d4b0e",
   "metadata": {},
   "outputs": [],
   "source": [
    "#Creating Series of movie titles so they can be ordered numerically for retrieval\n",
    "indices = pd.Series(content.index)\n",
    "\n",
    "#Defining recommendation function taking in title of movie, and outputting 10 similar movies\n",
    "def recommendations(title, cosine_sim = cosine_sim):\n",
    "    \n",
    "    #Creating empty list of recommended movies\n",
    "    recommended_movies = []\n",
    "    \n",
    "    #Getting index of matching movie title to input\n",
    "    idx = content.index[content['title'] == title].values[0]\n",
    "\n",
    "    #Creating a Series with the cosine similarity scores in descending order\n",
    "    score_series = pd.Series(cosine_sim[idx]).sort_values(ascending = False)\n",
    "\n",
    "    #Getting indexes of top 10 similar movies\n",
    "    top_10_indexes = list(score_series.iloc[1:11].index)\n",
    "    \n",
    "    for i in top_10_indexes:\n",
    "        recommended_movies.append(list(content.index)[i])\n",
    "        \n",
    "    #Index can be used here to find more information if needed, like whether it's a TV Show/Movie\n",
    "    #or to retrieve description/genres/director/cast\n",
    "        \n",
    "    return [content['title'][j] for j in recommended_movies]"
   ]
  },
  {
   "cell_type": "code",
   "execution_count": 19,
   "id": "ecc4259d",
   "metadata": {},
   "outputs": [
    {
     "data": {
      "text/plain": [
       "['Jaws',\n",
       " 'Jaws: The Revenge',\n",
       " 'Jaws 3',\n",
       " 'Sweetheart',\n",
       " 'Grandmaster',\n",
       " 'In The Deep',\n",
       " 'Oxygen',\n",
       " 'Rogue City',\n",
       " 'Carriers',\n",
       " 'Ugly']"
      ]
     },
     "execution_count": 19,
     "metadata": {},
     "output_type": "execute_result"
    }
   ],
   "source": [
    "#Final recommendation function!\n",
    "recommendations('Jaws 2')"
   ]
  }
 ],
 "metadata": {
  "kernelspec": {
   "display_name": "Python 3 (ipykernel)",
   "language": "python",
   "name": "python3"
  },
  "language_info": {
   "codemirror_mode": {
    "name": "ipython",
    "version": 3
   },
   "file_extension": ".py",
   "mimetype": "text/x-python",
   "name": "python",
   "nbconvert_exporter": "python",
   "pygments_lexer": "ipython3",
   "version": "3.9.7"
  }
 },
 "nbformat": 4,
 "nbformat_minor": 5
}
